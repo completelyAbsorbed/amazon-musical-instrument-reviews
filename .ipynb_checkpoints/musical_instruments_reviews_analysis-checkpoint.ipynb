{
 "cells": [
  {
   "cell_type": "markdown",
   "id": "67056df3",
   "metadata": {},
   "source": [
    "# Liz Young - Code Review - Technical Interview Presentation\n",
    "\n",
    "<hr>\n",
    "\n",
    "In this notebook I will walk through code I wrote to start analyzing reviews of musical instruments from Amazon purchases.\n",
    "\n",
    "The goal of this project is to clean, transform, and organize the data to prepare for building models to predict review scores based on reviews provided by purchasers.\n",
    "\n",
    "I selected [this dataset](https://www.kaggle.com/datasets/eswarchandt/amazon-music-reviews?resource=download) from Kaggle, after searching for semistructured and unstructured datasets, this one resonated with me.\n",
    "\n",
    "<hr>\n",
    "\n",
    "I set up a private github repo tracking my progress with this project, you can find via [this link](https://github.com/completelyAbsorbed/amazon-musical-instrument-reviews), containing ...\n",
    "- commits of this project from start to finish\n",
    "- a progress tracker document I designed and used to execute the PACE methodology on this project\n",
    "- screen captures of my git commits demonstrating competency with git, github, and commandline\n",
    "- the original database sourced from Kaggle\n",
    "- this Jupyter notebook\n",
    "- any files produced by this notebook\n",
    "\n",
    "<hr>\n",
    "\n",
    "### *Thank you for your time and consideration*\n",
    "\n",
    "<hr>"
   ]
  },
  {
   "cell_type": "markdown",
   "id": "6f4dd5f6",
   "metadata": {},
   "source": [
    "# Import"
   ]
  },
  {
   "cell_type": "code",
   "execution_count": null,
   "id": "88750c97",
   "metadata": {},
   "outputs": [],
   "source": [
    "# import packages and libraries\n",
    "import pandas as pd"
   ]
  },
  {
   "cell_type": "markdown",
   "id": "dbc40e5b",
   "metadata": {},
   "source": [
    "# Load Original Data"
   ]
  },
  {
   "cell_type": "code",
   "execution_count": 7,
   "id": "75914d06",
   "metadata": {},
   "outputs": [],
   "source": [
    "# define the filename where python can find the original dataset\n",
    "data_filename = \"Musical_instruments_reviews.csv\"\n",
    "\n",
    "# read in the original dataset to a pandas DataFrame\n",
    "data_raw = pd.read_csv(data_filename)"
   ]
  },
  {
   "attachments": {},
   "cell_type": "markdown",
   "id": "30dbcf80",
   "metadata": {},
   "source": [
    "# Initial Inspection of Data\n",
    "\n",
    "<hr>\n",
    "\n",
    "*Learn more about the data using methods from the pandas DataFrame type. <br> <br>\n",
    "Demonstrating competency with software design pattern: Object-Oriented Programming.*"
   ]
  },
  {
   "cell_type": "code",
   "execution_count": 9,
   "id": "ec46ef92",
   "metadata": {},
   "outputs": [
    {
     "name": "stdout",
     "output_type": "stream",
     "text": [
      "       reviewerID        asin  \\\n",
      "0  A2IBPI20UZIR0U  1384719342   \n",
      "1  A14VAT5EAX3D9S  1384719342   \n",
      "2  A195EZSQDW3E21  1384719342   \n",
      "3  A2C00NNG1ZQQG2  1384719342   \n",
      "4   A94QU4C90B1AX  1384719342   \n",
      "\n",
      "                                       reviewerName   helpful  \\\n",
      "0  cassandra tu \"Yeah, well, that's just like, u...    [0, 0]   \n",
      "1                                              Jake  [13, 14]   \n",
      "2                     Rick Bennette \"Rick Bennette\"    [1, 1]   \n",
      "3                         RustyBill \"Sunday Rocker\"    [0, 0]   \n",
      "4                                     SEAN MASLANKA    [0, 0]   \n",
      "\n",
      "                                          reviewText  overall  \\\n",
      "0  Not much to write about here, but it does exac...      5.0   \n",
      "1  The product does exactly as it should and is q...      5.0   \n",
      "2  The primary job of this device is to block the...      5.0   \n",
      "3  Nice windscreen protects my MXL mic and preven...      5.0   \n",
      "4  This pop filter is great. It looks and perform...      5.0   \n",
      "\n",
      "                                 summary  unixReviewTime   reviewTime  \n",
      "0                                   good      1393545600  02 28, 2014  \n",
      "1                                   Jake      1363392000  03 16, 2013  \n",
      "2                   It Does The Job Well      1377648000  08 28, 2013  \n",
      "3          GOOD WINDSCREEN FOR THE MONEY      1392336000  02 14, 2014  \n",
      "4  No more pops when I record my vocals.      1392940800  02 21, 2014  \n"
     ]
    }
   ],
   "source": [
    "# look at the first 5 rows of the original dataset\n",
    "print(data_raw.head())"
   ]
  },
  {
   "cell_type": "code",
   "execution_count": 10,
   "id": "51e54fb3",
   "metadata": {},
   "outputs": [
    {
     "name": "stdout",
     "output_type": "stream",
     "text": [
      "           reviewerID        asin             reviewerName helpful  \\\n",
      "10256  A14B2YH83ZXMPP  B00JBIVXGC          Lonnie M. Adams  [0, 0]   \n",
      "10257   A1RPTVW5VEOSI  B00JBIVXGC       Michael J. Edelman  [0, 0]   \n",
      "10258   AWCJ12KBO5VII  B00JBIVXGC         Michael L. Knapp  [0, 0]   \n",
      "10259  A2Z7S8B5U4PAKJ  B00JBIVXGC  Rick Langdon \"Scriptor\"  [0, 0]   \n",
      "10260  A2WA8TDCTGUADI  B00JBIVXGC          TheTerrorBeyond  [0, 0]   \n",
      "\n",
      "                                              reviewText  overall  \\\n",
      "10256            Great, just as expected.  Thank to all.      5.0   \n",
      "10257  I've been thinking about trying the Nanoweb st...      5.0   \n",
      "10258  I have tried coated strings in the past ( incl...      4.0   \n",
      "10259  Well, MADE by Elixir and DEVELOPED with Taylor...      4.0   \n",
      "10260  These strings are really quite good, but I wou...      4.0   \n",
      "\n",
      "                                                 summary  unixReviewTime  \\\n",
      "10256                                         Five Stars      1405814400   \n",
      "10257  Long life, and for some players, a good econom...      1404259200   \n",
      "10258                                   Good for coated.      1405987200   \n",
      "10259                                        Taylor Made      1404172800   \n",
      "10260  These strings are really quite good, but I wou...      1405468800   \n",
      "\n",
      "        reviewTime  \n",
      "10256  07 20, 2014  \n",
      "10257   07 2, 2014  \n",
      "10258  07 22, 2014  \n",
      "10259   07 1, 2014  \n",
      "10260  07 16, 2014  \n"
     ]
    }
   ],
   "source": [
    "# look at the last 5 rows of the original dataset\n",
    "print(data_raw.tail())"
   ]
  },
  {
   "cell_type": "code",
   "execution_count": 15,
   "id": "f6bbdc86",
   "metadata": {},
   "outputs": [
    {
     "name": "stdout",
     "output_type": "stream",
     "text": [
      "<class 'pandas.core.frame.DataFrame'>\n",
      "RangeIndex: 10261 entries, 0 to 10260\n",
      "Data columns (total 9 columns):\n",
      " #   Column          Non-Null Count  Dtype  \n",
      "---  ------          --------------  -----  \n",
      " 0   reviewerID      10261 non-null  object \n",
      " 1   asin            10261 non-null  object \n",
      " 2   reviewerName    10234 non-null  object \n",
      " 3   helpful         10261 non-null  object \n",
      " 4   reviewText      10254 non-null  object \n",
      " 5   overall         10261 non-null  float64\n",
      " 6   summary         10261 non-null  object \n",
      " 7   unixReviewTime  10261 non-null  int64  \n",
      " 8   reviewTime      10261 non-null  object \n",
      "dtypes: float64(1), int64(1), object(7)\n",
      "memory usage: 721.6+ KB\n",
      "None\n"
     ]
    }
   ],
   "source": [
    "# print a summary of the size, non-null counts, and column variable types of the original dataset\n",
    "print(data_raw.info())"
   ]
  },
  {
   "cell_type": "markdown",
   "id": "f7d53198",
   "metadata": {},
   "source": [
    "The original dataset is 9 columns and 10261 rows.\n",
    "\n",
    "The columns provided are ... \n",
    "> 'reviewerID'\n",
    "    <br>    'asin'\n",
    "    <br>    'reviewerName'\n",
    "    <br>    'helpful'\n",
    "    <br>    'reviewText'\n",
    "    <br>    'overall'\n",
    "    <br>    'summary'\n",
    "    <br>    'unixReviewTime'\n",
    "    <br>    'reviewTime'\n",
    "    \n",
    "The original dataset contains no Null values.\n",
    "\n",
    "Column 'overall' is type float64, 'unixReviewTime' is type int64, the rest are type object.\n",
    "\n",
    "The original dataset uses ~721.6 KB in memory.\n"
   ]
  },
  {
   "cell_type": "code",
   "execution_count": 19,
   "id": "14eac50d",
   "metadata": {},
   "outputs": [
    {
     "name": "stdout",
     "output_type": "stream",
     "text": [
      "            overall  unixReviewTime\n",
      "count  10261.000000    1.026100e+04\n",
      "mean       4.488744    1.360606e+09\n",
      "std        0.894642    3.779735e+07\n",
      "min        1.000000    1.095466e+09\n",
      "25%        4.000000    1.343434e+09\n",
      "50%        5.000000    1.368490e+09\n",
      "75%        5.000000    1.388966e+09\n",
      "max        5.000000    1.405987e+09\n"
     ]
    }
   ],
   "source": [
    "# examine count, mean, standard deviation, minimum, maximum, and quartiles of numeric columns in the original dataset\n",
    "print(data_raw.describe())"
   ]
  },
  {
   "cell_type": "markdown",
   "id": "d66ec998",
   "metadata": {},
   "source": [
    "'overall' is the reviewer's score per the [data dictionary](https://www.kaggle.com/datasets/eswarchandt/amazon-music-reviews?resource=download). It ranges from 1 to 5.\n",
    "\n",
    "'unixReviewTime' represents unix time of the review, and is directly related to 'reviewTime' (not numeric, so not summarised here).\n",
    "\n",
    "Next, it would be helpful to inspect each of the non-numeric columns, and ascertain their features and usefulness."
   ]
  },
  {
   "cell_type": "markdown",
   "id": "60ed0824",
   "metadata": {},
   "source": [
    "### 'reviewTime'"
   ]
  },
  {
   "cell_type": "code",
   "execution_count": 22,
   "id": "0ec00636",
   "metadata": {},
   "outputs": [
    {
     "name": "stdout",
     "output_type": "stream",
     "text": [
      "   unixReviewTime   reviewTime\n",
      "0      1393545600  02 28, 2014\n",
      "1      1363392000  03 16, 2013\n",
      "2      1377648000  08 28, 2013\n",
      "3      1392336000  02 14, 2014\n",
      "4      1392940800  02 21, 2014\n"
     ]
    }
   ],
   "source": [
    "# make a subset of the original dataset consisting of the time variables for inspection\n",
    "data_time = data_raw[['unixReviewTime','reviewTime']]\n",
    "print(data_time.head())"
   ]
  },
  {
   "cell_type": "markdown",
   "id": "f160fbf1",
   "metadata": {},
   "source": [
    "Time that reviews are posted doesn't pertain to the content of the reviews, so it could make sense to discard both columns, though it may be convenient and useful to first segment the data into train, test, and validation splits in distinct time periods."
   ]
  },
  {
   "cell_type": "markdown",
   "id": "7c2d4c94",
   "metadata": {},
   "source": [
    "### 'summary'"
   ]
  },
  {
   "cell_type": "code",
   "execution_count": 23,
   "id": "c7e734a0",
   "metadata": {},
   "outputs": [
    {
     "name": "stdout",
     "output_type": "stream",
     "text": [
      "0                                     good\n",
      "1                                     Jake\n",
      "2                     It Does The Job Well\n",
      "3            GOOD WINDSCREEN FOR THE MONEY\n",
      "4    No more pops when I record my vocals.\n",
      "Name: summary, dtype: object\n"
     ]
    }
   ],
   "source": [
    "# examine the 'summary' variable of the original dataset\n",
    "print(data_raw['summary'].head())"
   ]
  },
  {
   "cell_type": "markdown",
   "id": "c22a298a",
   "metadata": {},
   "source": [
    "'summary' is a string variable, probably shorter than 'reviewText'. It could be informative to examine the distribution of lengths of entries in 'summary'."
   ]
  },
  {
   "cell_type": "code",
   "execution_count": 25,
   "id": "c9047321",
   "metadata": {},
   "outputs": [
    {
     "name": "stdout",
     "output_type": "stream",
     "text": [
      "count    10261.000000\n",
      "mean        24.348407\n",
      "std         15.599231\n",
      "min          1.000000\n",
      "25%         13.000000\n",
      "50%         21.000000\n",
      "75%         32.000000\n",
      "max        128.000000\n",
      "Name: summary, dtype: float64\n"
     ]
    }
   ],
   "source": [
    "# assign the lengths of the 'summary' column to a new variable\n",
    "lengths_summary = data_raw['summary'].str.len()\n",
    "\n",
    "# print basic distributional measures of the lengths\n",
    "print(lengths_summary.describe())"
   ]
  },
  {
   "cell_type": "markdown",
   "id": "1625b9e9",
   "metadata": {},
   "source": [
    "The lengths of strings in 'summary' range from 1 to 128. These may or may not be correlated with the review score. In a NLP model, it could be valuable to tokenize the 'summary' column for training."
   ]
  },
  {
   "cell_type": "markdown",
   "id": "6b632e7b",
   "metadata": {},
   "source": [
    "### 'reviewText'"
   ]
  },
  {
   "cell_type": "code",
   "execution_count": 26,
   "id": "eb7f98a1",
   "metadata": {},
   "outputs": [
    {
     "name": "stdout",
     "output_type": "stream",
     "text": [
      "0    Not much to write about here, but it does exac...\n",
      "1    The product does exactly as it should and is q...\n",
      "2    The primary job of this device is to block the...\n",
      "3    Nice windscreen protects my MXL mic and preven...\n",
      "4    This pop filter is great. It looks and perform...\n",
      "Name: reviewText, dtype: object\n"
     ]
    }
   ],
   "source": [
    "# examine the 'reviewText' variable of the original dataset\n",
    "print(data_raw['reviewText'].head())"
   ]
  },
  {
   "cell_type": "markdown",
   "id": "ccad58a9",
   "metadata": {},
   "source": [
    "'reviewText' is also a string variable. As with 'summary', it may be informative to consider the lengths of these entries."
   ]
  },
  {
   "cell_type": "code",
   "execution_count": 27,
   "id": "316a8a46",
   "metadata": {},
   "outputs": [
    {
     "name": "stdout",
     "output_type": "stream",
     "text": [
      "count    10254.000000\n",
      "mean       486.260776\n",
      "std        613.514024\n",
      "min          9.000000\n",
      "25%        163.000000\n",
      "50%        285.000000\n",
      "75%        552.000000\n",
      "max      11310.000000\n",
      "Name: reviewText, dtype: float64\n"
     ]
    }
   ],
   "source": [
    "# assign the lengths of the 'reviewText' column to a new variable\n",
    "lengths_review = data_raw['reviewText'].str.len()\n",
    "\n",
    "# print basic distributional measures of the lengths\n",
    "print(lengths_review.describe())"
   ]
  },
  {
   "cell_type": "markdown",
   "id": "f8cb2902",
   "metadata": {},
   "source": [
    "The lengths of entries in 'reviewText' range in length from 9 to 11310. As with 'summary' this information may be useful for a model predicting the review score, and tokenizing these entries would be a step to strongly consider for an NLP model."
   ]
  },
  {
   "cell_type": "markdown",
   "id": "b684a549",
   "metadata": {},
   "source": [
    "### 'helpful'"
   ]
  },
  {
   "cell_type": "code",
   "execution_count": null,
   "id": "d69e7375",
   "metadata": {},
   "outputs": [],
   "source": []
  },
  {
   "cell_type": "markdown",
   "id": "c3d3772e",
   "metadata": {},
   "source": [
    "... comments on variable ..."
   ]
  },
  {
   "cell_type": "markdown",
   "id": "77cf7b17",
   "metadata": {},
   "source": [
    "### 'reviewerName'"
   ]
  },
  {
   "cell_type": "code",
   "execution_count": null,
   "id": "8cd1a294",
   "metadata": {},
   "outputs": [],
   "source": []
  },
  {
   "cell_type": "markdown",
   "id": "49cc04eb",
   "metadata": {},
   "source": [
    "... comments on variable ..."
   ]
  },
  {
   "cell_type": "markdown",
   "id": "e7c3e287",
   "metadata": {},
   "source": [
    "### 'asin'"
   ]
  },
  {
   "cell_type": "code",
   "execution_count": null,
   "id": "1c7ca6dd",
   "metadata": {},
   "outputs": [],
   "source": []
  },
  {
   "cell_type": "markdown",
   "id": "3e902544",
   "metadata": {},
   "source": [
    "... comments on variable ..."
   ]
  },
  {
   "cell_type": "markdown",
   "id": "180a2636",
   "metadata": {},
   "source": [
    "### 'reviewerID'"
   ]
  },
  {
   "cell_type": "code",
   "execution_count": null,
   "id": "27433b91",
   "metadata": {},
   "outputs": [],
   "source": []
  },
  {
   "cell_type": "markdown",
   "id": "a1ba1087",
   "metadata": {},
   "source": [
    "... comments on variable ..."
   ]
  }
 ],
 "metadata": {
  "kernelspec": {
   "display_name": "Python 3 (ipykernel)",
   "language": "python",
   "name": "python3"
  },
  "language_info": {
   "codemirror_mode": {
    "name": "ipython",
    "version": 3
   },
   "file_extension": ".py",
   "mimetype": "text/x-python",
   "name": "python",
   "nbconvert_exporter": "python",
   "pygments_lexer": "ipython3",
   "version": "3.10.7"
  }
 },
 "nbformat": 4,
 "nbformat_minor": 5
}
