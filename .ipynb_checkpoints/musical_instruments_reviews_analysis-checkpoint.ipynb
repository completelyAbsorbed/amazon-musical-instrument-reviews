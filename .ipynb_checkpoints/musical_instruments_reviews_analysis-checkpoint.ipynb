{
 "cells": [
  {
   "cell_type": "markdown",
   "id": "113d8571",
   "metadata": {},
   "source": [
    "# Liz Young - Code Review - Technical Interview Presentation\n",
    "\n",
    "<hr>\n",
    "\n",
    "In this notebook I will walk through code I wrote to start analyzing reviews of musical instruments from Amazon purchases.\n",
    "\n",
    "The goal of this project is to clean, transform, and organize the data to identify simple features of the reviews and summaries provided that may be predictive of the review score, and it's perceived usefulness among other shoppers. \n",
    "\n",
    "Additionally, this process will result in datasets prepared for building models to predict review scores and usefulness based on reviews, and summaries provided by purchasers.\n",
    "\n",
    "I selected [this dataset](https://www.kaggle.com/datasets/eswarchandt/amazon-music-reviews?resource=download) from Kaggle, after searching for semistructured and unstructured datasets, this one resonated with me.\n",
    "\n",
    "<hr>\n",
    "\n",
    "I set up a private github repo tracking my progress with this project, you can find via [this link](https://github.com/completelyAbsorbed/amazon-musical-instrument-reviews), containing ...\n",
    "- commits of this project from start to finish\n",
    "- a progress tracker document I designed and used to execute the PACE methodology on this project\n",
    "- screen captures of my git commits demonstrating competency with git, github, and commandline\n",
    "- the original database sourced from Kaggle\n",
    "- this Jupyter notebook\n",
    "- any files produced by this notebook\n",
    "\n",
    "<hr>\n",
    "\n",
    "### *Thank you for your time and consideration*\n",
    "\n",
    "<hr>"
   ]
  },
  {
   "cell_type": "markdown",
   "id": "62c0ab15",
   "metadata": {},
   "source": [
    "<hr>\n",
    "\n",
    "# Import"
   ]
  },
  {
   "cell_type": "code",
   "execution_count": 2,
   "id": "bf334837",
   "metadata": {},
   "outputs": [],
   "source": [
    "# import packages and libraries\n",
    "import pandas as pd\n",
    "from matplotlib import pyplot as plt\n",
    "import numpy as np"
   ]
  },
  {
   "cell_type": "markdown",
   "id": "dd8dae0f",
   "metadata": {},
   "source": [
    "<hr>\n",
    "\n",
    "# Load Original Data"
   ]
  },
  {
   "cell_type": "code",
   "execution_count": 3,
   "id": "2f736b16",
   "metadata": {},
   "outputs": [],
   "source": [
    "# define the filename where python can find the original dataset\n",
    "data_filename = \"Musical_instruments_reviews.csv\"\n",
    "\n",
    "# read in the original dataset to a pandas DataFrame\n",
    "data_raw = pd.read_csv(data_filename)"
   ]
  },
  {
   "cell_type": "markdown",
   "id": "88de385c",
   "metadata": {},
   "source": [
    "<hr>\n",
    "\n",
    "# Initial Inspection of Data\n",
    "\n",
    "*Learn more about the data using methods from the pandas DataFrame type. <br> <br>\n",
    "Demonstrating competency with software design pattern: Object-Oriented Programming.*"
   ]
  },
  {
   "cell_type": "code",
   "execution_count": 4,
   "id": "c874ca43",
   "metadata": {},
   "outputs": [
    {
     "name": "stdout",
     "output_type": "stream",
     "text": [
      "       reviewerID        asin  \\\n",
      "0  A2IBPI20UZIR0U  1384719342   \n",
      "1  A14VAT5EAX3D9S  1384719342   \n",
      "2  A195EZSQDW3E21  1384719342   \n",
      "3  A2C00NNG1ZQQG2  1384719342   \n",
      "4   A94QU4C90B1AX  1384719342   \n",
      "\n",
      "                                       reviewerName   helpful  \\\n",
      "0  cassandra tu \"Yeah, well, that's just like, u...    [0, 0]   \n",
      "1                                              Jake  [13, 14]   \n",
      "2                     Rick Bennette \"Rick Bennette\"    [1, 1]   \n",
      "3                         RustyBill \"Sunday Rocker\"    [0, 0]   \n",
      "4                                     SEAN MASLANKA    [0, 0]   \n",
      "\n",
      "                                          reviewText  overall  \\\n",
      "0  Not much to write about here, but it does exac...      5.0   \n",
      "1  The product does exactly as it should and is q...      5.0   \n",
      "2  The primary job of this device is to block the...      5.0   \n",
      "3  Nice windscreen protects my MXL mic and preven...      5.0   \n",
      "4  This pop filter is great. It looks and perform...      5.0   \n",
      "\n",
      "                                 summary  unixReviewTime   reviewTime  \n",
      "0                                   good      1393545600  02 28, 2014  \n",
      "1                                   Jake      1363392000  03 16, 2013  \n",
      "2                   It Does The Job Well      1377648000  08 28, 2013  \n",
      "3          GOOD WINDSCREEN FOR THE MONEY      1392336000  02 14, 2014  \n",
      "4  No more pops when I record my vocals.      1392940800  02 21, 2014  \n"
     ]
    }
   ],
   "source": [
    "# look at the first 5 rows of the original dataset\n",
    "print(data_raw.head())"
   ]
  },
  {
   "cell_type": "code",
   "execution_count": 5,
   "id": "0db961f0",
   "metadata": {},
   "outputs": [
    {
     "name": "stdout",
     "output_type": "stream",
     "text": [
      "           reviewerID        asin             reviewerName helpful  \\\n",
      "10256  A14B2YH83ZXMPP  B00JBIVXGC          Lonnie M. Adams  [0, 0]   \n",
      "10257   A1RPTVW5VEOSI  B00JBIVXGC       Michael J. Edelman  [0, 0]   \n",
      "10258   AWCJ12KBO5VII  B00JBIVXGC         Michael L. Knapp  [0, 0]   \n",
      "10259  A2Z7S8B5U4PAKJ  B00JBIVXGC  Rick Langdon \"Scriptor\"  [0, 0]   \n",
      "10260  A2WA8TDCTGUADI  B00JBIVXGC          TheTerrorBeyond  [0, 0]   \n",
      "\n",
      "                                              reviewText  overall  \\\n",
      "10256            Great, just as expected.  Thank to all.      5.0   \n",
      "10257  I've been thinking about trying the Nanoweb st...      5.0   \n",
      "10258  I have tried coated strings in the past ( incl...      4.0   \n",
      "10259  Well, MADE by Elixir and DEVELOPED with Taylor...      4.0   \n",
      "10260  These strings are really quite good, but I wou...      4.0   \n",
      "\n",
      "                                                 summary  unixReviewTime  \\\n",
      "10256                                         Five Stars      1405814400   \n",
      "10257  Long life, and for some players, a good econom...      1404259200   \n",
      "10258                                   Good for coated.      1405987200   \n",
      "10259                                        Taylor Made      1404172800   \n",
      "10260  These strings are really quite good, but I wou...      1405468800   \n",
      "\n",
      "        reviewTime  \n",
      "10256  07 20, 2014  \n",
      "10257   07 2, 2014  \n",
      "10258  07 22, 2014  \n",
      "10259   07 1, 2014  \n",
      "10260  07 16, 2014  \n"
     ]
    }
   ],
   "source": [
    "# look at the last 5 rows of the original dataset\n",
    "print(data_raw.tail())"
   ]
  },
  {
   "cell_type": "code",
   "execution_count": 6,
   "id": "643073d0",
   "metadata": {},
   "outputs": [
    {
     "name": "stdout",
     "output_type": "stream",
     "text": [
      "<class 'pandas.core.frame.DataFrame'>\n",
      "RangeIndex: 10261 entries, 0 to 10260\n",
      "Data columns (total 9 columns):\n",
      " #   Column          Non-Null Count  Dtype  \n",
      "---  ------          --------------  -----  \n",
      " 0   reviewerID      10261 non-null  object \n",
      " 1   asin            10261 non-null  object \n",
      " 2   reviewerName    10234 non-null  object \n",
      " 3   helpful         10261 non-null  object \n",
      " 4   reviewText      10254 non-null  object \n",
      " 5   overall         10261 non-null  float64\n",
      " 6   summary         10261 non-null  object \n",
      " 7   unixReviewTime  10261 non-null  int64  \n",
      " 8   reviewTime      10261 non-null  object \n",
      "dtypes: float64(1), int64(1), object(7)\n",
      "memory usage: 721.6+ KB\n",
      "None\n"
     ]
    }
   ],
   "source": [
    "# print a summary of the size, non-null counts, and column variable types of the original dataset\n",
    "print(data_raw.info())"
   ]
  },
  {
   "cell_type": "markdown",
   "id": "35d9795f",
   "metadata": {},
   "source": [
    "The original dataset is 9 columns and 10261 rows.\n",
    "\n",
    "The columns provided are ... \n",
    "> 'reviewerID'\n",
    "    <br>    'asin'\n",
    "    <br>    'reviewerName'\n",
    "    <br>    'helpful'\n",
    "    <br>    'reviewText'\n",
    "    <br>    'overall'\n",
    "    <br>    'summary'\n",
    "    <br>    'unixReviewTime'\n",
    "    <br>    'reviewTime'\n",
    "    \n",
    "The original dataset contains no Null values.\n",
    "\n",
    "Column 'overall' is type float64, 'unixReviewTime' is type int64, the rest are type object.\n",
    "\n",
    "The original dataset uses ~721.6 KB in memory.\n"
   ]
  },
  {
   "cell_type": "code",
   "execution_count": 7,
   "id": "c68bb7c2",
   "metadata": {},
   "outputs": [
    {
     "name": "stdout",
     "output_type": "stream",
     "text": [
      "            overall  unixReviewTime\n",
      "count  10261.000000    1.026100e+04\n",
      "mean       4.488744    1.360606e+09\n",
      "std        0.894642    3.779735e+07\n",
      "min        1.000000    1.095466e+09\n",
      "25%        4.000000    1.343434e+09\n",
      "50%        5.000000    1.368490e+09\n",
      "75%        5.000000    1.388966e+09\n",
      "max        5.000000    1.405987e+09\n"
     ]
    }
   ],
   "source": [
    "# examine count, mean, standard deviation, minimum, maximum, and quartiles of numeric columns in the original dataset\n",
    "print(data_raw.describe())"
   ]
  },
  {
   "cell_type": "markdown",
   "id": "a1ea4e12",
   "metadata": {},
   "source": [
    "'overall' is the reviewer's score per the [data dictionary](https://www.kaggle.com/datasets/eswarchandt/amazon-music-reviews?resource=download). It ranges from 1 to 5.\n",
    "\n",
    "'unixReviewTime' represents unix time of the review, and is directly related to 'reviewTime' (not numeric, so not summarised here).\n",
    "\n",
    "Next, it would be helpful to inspect each of the non-numeric columns, and ascertain their features and usefulness."
   ]
  },
  {
   "cell_type": "markdown",
   "id": "a3cac288",
   "metadata": {},
   "source": [
    "### 'reviewTime'"
   ]
  },
  {
   "cell_type": "code",
   "execution_count": 8,
   "id": "3a6a5c23",
   "metadata": {},
   "outputs": [
    {
     "name": "stdout",
     "output_type": "stream",
     "text": [
      "   unixReviewTime   reviewTime\n",
      "0      1393545600  02 28, 2014\n",
      "1      1363392000  03 16, 2013\n",
      "2      1377648000  08 28, 2013\n",
      "3      1392336000  02 14, 2014\n",
      "4      1392940800  02 21, 2014\n"
     ]
    }
   ],
   "source": [
    "# make a subset of the original dataset consisting of the time variables for inspection\n",
    "data_time = data_raw[['unixReviewTime','reviewTime']]\n",
    "print(data_time.head())"
   ]
  },
  {
   "cell_type": "markdown",
   "id": "b4b688d2",
   "metadata": {},
   "source": [
    "Time that reviews are posted doesn't pertain to the content of the reviews, so it could make sense to discard both columns, though it may be convenient and useful to first segment the data into train, test, and validation splits in distinct time periods."
   ]
  },
  {
   "cell_type": "code",
   "execution_count": 23,
   "id": "1440ad47",
   "metadata": {},
   "outputs": [
    {
     "name": "stdout",
     "output_type": "stream",
     "text": [
      "count    1.026100e+04\n",
      "mean     1.360606e+09\n",
      "std      3.779735e+07\n",
      "min      1.095466e+09\n",
      "25%      1.343434e+09\n",
      "50%      1.368490e+09\n",
      "75%      1.388966e+09\n",
      "max      1.405987e+09\n",
      "Name: unixReviewTime, dtype: float64\n"
     ]
    }
   ],
   "source": [
    "# examine the distribution of 'unixReviewTime'\n",
    "print(data_time['unixReviewTime'].describe())"
   ]
  },
  {
   "cell_type": "code",
   "execution_count": 50,
   "id": "015bde19",
   "metadata": {},
   "outputs": [
    {
     "name": "stdout",
     "output_type": "stream",
     "text": [
      "3221\n",
      "3220\n",
      "3820\n"
     ]
    }
   ],
   "source": [
    "# define cut-points based on unixReviewTime\n",
    "time_start = data_time['unixReviewTime'].min()\n",
    "time_end = data_time['unixReviewTime'].max()\n",
    "time_span = time_end - time_start \n",
    "time_bound_train = 1355000000\n",
    "time_bound_test = 1380000000\n",
    "\n",
    "# define indices for rows to keep in train, test, and validate splits\n",
    "indices_train = np.argwhere(data_time['unixReviewTime'] < time_bound_train)\n",
    "print(len(indices_train)) # 3221\n",
    "\n",
    "indices_test = np.argwhere((data_time['unixReviewTime'] >= time_bound_train) & (data_time['unixReviewTime'] < time_bound_test))\n",
    "print(len(indices_test)) # 3220\n",
    "\n",
    "indices_validate = np.argwhere(data_time['unixReviewTime'] >= time_bound_test)\n",
    "print(len(indices_validate)) # 3820\n",
    "\n"
   ]
  },
  {
   "cell_type": "markdown",
   "id": "37683ebf",
   "metadata": {},
   "source": [
    "### 'summary'"
   ]
  },
  {
   "cell_type": "code",
   "execution_count": 9,
   "id": "84231d36",
   "metadata": {},
   "outputs": [
    {
     "name": "stdout",
     "output_type": "stream",
     "text": [
      "0                                     good\n",
      "1                                     Jake\n",
      "2                     It Does The Job Well\n",
      "3            GOOD WINDSCREEN FOR THE MONEY\n",
      "4    No more pops when I record my vocals.\n",
      "Name: summary, dtype: object\n"
     ]
    }
   ],
   "source": [
    "# examine the 'summary' variable of the original dataset\n",
    "print(data_raw['summary'].head())"
   ]
  },
  {
   "cell_type": "markdown",
   "id": "6b2ec5ae",
   "metadata": {},
   "source": [
    "'summary' is a string variable, probably shorter than 'reviewText'. It could be informative to examine the distribution of lengths of entries in 'summary'."
   ]
  },
  {
   "cell_type": "code",
   "execution_count": 10,
   "id": "b375ce2d",
   "metadata": {},
   "outputs": [
    {
     "name": "stdout",
     "output_type": "stream",
     "text": [
      "count    10261.000000\n",
      "mean        24.348407\n",
      "std         15.599231\n",
      "min          1.000000\n",
      "25%         13.000000\n",
      "50%         21.000000\n",
      "75%         32.000000\n",
      "max        128.000000\n",
      "Name: summary, dtype: float64\n"
     ]
    }
   ],
   "source": [
    "# assign the lengths of the 'summary' column to a new variable\n",
    "lengths_summary = data_raw['summary'].str.len()\n",
    "\n",
    "# print basic distributional measures of the lengths\n",
    "print(lengths_summary.describe())"
   ]
  },
  {
   "cell_type": "markdown",
   "id": "0dcd23a4",
   "metadata": {},
   "source": [
    "The lengths of strings in 'summary' range from 1 to 128. \n",
    "\n",
    "These may or may not be correlated with the review score. \n",
    "\n",
    "In a NLP model, it could be valuable to tokenize the 'summary' column for training."
   ]
  },
  {
   "cell_type": "markdown",
   "id": "b458572e",
   "metadata": {},
   "source": [
    "### 'reviewText'"
   ]
  },
  {
   "cell_type": "code",
   "execution_count": 11,
   "id": "dfcfd18d",
   "metadata": {},
   "outputs": [
    {
     "name": "stdout",
     "output_type": "stream",
     "text": [
      "0    Not much to write about here, but it does exac...\n",
      "1    The product does exactly as it should and is q...\n",
      "2    The primary job of this device is to block the...\n",
      "3    Nice windscreen protects my MXL mic and preven...\n",
      "4    This pop filter is great. It looks and perform...\n",
      "Name: reviewText, dtype: object\n"
     ]
    }
   ],
   "source": [
    "# examine the 'reviewText' variable of the original dataset\n",
    "print(data_raw['reviewText'].head())"
   ]
  },
  {
   "cell_type": "markdown",
   "id": "218f5ee1",
   "metadata": {},
   "source": [
    "'reviewText' is also a string variable. As with 'summary', it may be informative to consider the lengths of these entries."
   ]
  },
  {
   "cell_type": "code",
   "execution_count": 12,
   "id": "fbe30b24",
   "metadata": {},
   "outputs": [
    {
     "name": "stdout",
     "output_type": "stream",
     "text": [
      "count    10254.000000\n",
      "mean       486.260776\n",
      "std        613.514024\n",
      "min          9.000000\n",
      "25%        163.000000\n",
      "50%        285.000000\n",
      "75%        552.000000\n",
      "max      11310.000000\n",
      "Name: reviewText, dtype: float64\n"
     ]
    }
   ],
   "source": [
    "# assign the lengths of the 'reviewText' column to a new variable\n",
    "lengths_review = data_raw['reviewText'].str.len()\n",
    "\n",
    "# print basic distributional measures of the lengths\n",
    "print(lengths_review.describe())"
   ]
  },
  {
   "cell_type": "markdown",
   "id": "0ba7f277",
   "metadata": {},
   "source": [
    "The lengths of entries in 'reviewText' range in length from 9 to 11310. \n",
    "\n",
    "As with 'summary' this information may be useful for a model predicting the review score, and tokenizing these entries would be a step to strongly consider for an NLP model.\n",
    "\n",
    "It may be useful to transform the length representations of 'reviewText' and 'summary' to buckets, and/or change the scale (i.e. take a logarithm of the length)."
   ]
  },
  {
   "cell_type": "markdown",
   "id": "7b131928",
   "metadata": {},
   "source": [
    "### 'helpful'"
   ]
  },
  {
   "cell_type": "code",
   "execution_count": 13,
   "id": "e861a42f",
   "metadata": {},
   "outputs": [
    {
     "name": "stdout",
     "output_type": "stream",
     "text": [
      "0      [0, 0]\n",
      "1    [13, 14]\n",
      "2      [1, 1]\n",
      "3      [0, 0]\n",
      "4      [0, 0]\n",
      "Name: helpful, dtype: object\n"
     ]
    }
   ],
   "source": [
    "# examine the 'helpful' variable of the original dataset\n",
    "print(data_raw['helpful'].head())"
   ]
  },
  {
   "cell_type": "markdown",
   "id": "046ac3b1",
   "metadata": {},
   "source": [
    "The 'helpful' column contains pairs of numbers, the first representing number of people who found the review helpful, with the second representing the total number of people who responded to a prompt asking whether or not the review was helpful.\n",
    "\n",
    "This column could be transformed into multiple new variables that could be informative for predicting the review score such as; number of responses, portion of responses asserting the review was helpful, portion of responses asserting the review was not helpful.\n",
    "\n",
    "These new variables could also be useful targets for a machine-learning model.\n",
    "\n",
    "It may be informative to explore the relation between these variables and the 'overall' review score.\n",
    "\n",
    "Before moving on, write functions to decompose 'helpful' into integers. *(functional programming)*"
   ]
  },
  {
   "cell_type": "code",
   "execution_count": 14,
   "id": "a686ff94",
   "metadata": {},
   "outputs": [],
   "source": [
    "# define a function to decompose 'string_pair' into integers\n",
    "def decompose_string_pair(string_pair) : \n",
    "    \"\"\"\n",
    "    Decompose a single string into a pair of integers\n",
    "    \n",
    "        Parameters:\n",
    "            string_pair (str): a string representing a pair of integers, i.e. \"[13, 14]\"\n",
    "        \n",
    "        Returns:\n",
    "            found_helpful (int): an integer representing the number that found the review helpful\n",
    "            total_helpful (int): an integer representing the total number that responded helpful or not\n",
    "            \n",
    "        References:\n",
    "            https://stackoverflow.com/questions/17416132/extracting-integers-from-a-string-of-ordered-pairs-in-python\n",
    "    \"\"\"\n",
    "    # split the string and remove brackets and comma via list comprehension\n",
    "    found_helpful, total_helpful = (int(string_split.strip(\"[],\")) for string_split in string_pair.split())\n",
    "    return(found_helpful, total_helpful)\n",
    "\n",
    "# define a function to decompose 'helpful' into integers\n",
    "def decompose_helpful(helpful) : \n",
    "    \"\"\"\n",
    "    Decompose the 'helpful' column into two values.\n",
    "    \n",
    "        Parameters:\n",
    "            helpful (str): a Series of strings representing pairs of integers, i.e. \"[13, 14]\"\n",
    "        \n",
    "        Returns:\n",
    "            count_found_helpful (tuple): a tuple of integers representing the number that found the review helpful\n",
    "            count_total_helpful (tuple): a tuple of integers representing the total number that responded helpful or not\n",
    "            \n",
    "        References:\n",
    "            https://stackoverflow.com/questions/42376201/how-can-i-get-multiple-lists-as-separate-results-from-a-list-comprehension\n",
    "    \"\"\"\n",
    "    # perform a list comprehension on the variable helpful, using decompose_string_pair function\n",
    "    count_found_helpful, count_total_helpful = zip(*[decompose_string_pair(string_pair) for string_pair in helpful])\n",
    "    return(count_found_helpful, count_total_helpful)\n"
   ]
  },
  {
   "cell_type": "code",
   "execution_count": 15,
   "id": "61a67ce3",
   "metadata": {},
   "outputs": [
    {
     "name": "stdout",
     "output_type": "stream",
     "text": [
      "(0, 13, 1, 0, 0)\n",
      "(0, 14, 1, 0, 0)\n"
     ]
    }
   ],
   "source": [
    "# derive the new integer variables represented in 'helpful'\n",
    "count_found_helpful, count_total_helpful = decompose_helpful(data_raw['helpful'])\n",
    "\n",
    "# examine the head of each of the derived variables\n",
    "print(count_found_helpful[0:5])\n",
    "print(count_total_helpful[0:5])"
   ]
  },
  {
   "cell_type": "markdown",
   "id": "6f2ab5af",
   "metadata": {},
   "source": [
    "### 'reviewerName'"
   ]
  },
  {
   "cell_type": "code",
   "execution_count": 16,
   "id": "715707fc",
   "metadata": {},
   "outputs": [
    {
     "name": "stdout",
     "output_type": "stream",
     "text": [
      "0    cassandra tu \"Yeah, well, that's just like, u...\n",
      "1                                                Jake\n",
      "2                       Rick Bennette \"Rick Bennette\"\n",
      "3                           RustyBill \"Sunday Rocker\"\n",
      "4                                       SEAN MASLANKA\n",
      "Name: reviewerName, dtype: object\n"
     ]
    }
   ],
   "source": [
    "# examine the 'reviewerName' variable of the original dataset\n",
    "print(data_raw['reviewerName'].head())"
   ]
  },
  {
   "cell_type": "markdown",
   "id": "d08b655e",
   "metadata": {},
   "source": [
    "While the reviewer name may be useful in certain contexts, it makes sense to drop this column for the initial approach to modeling, as it does not pertain to the content or helpfulness of the review itself."
   ]
  },
  {
   "cell_type": "markdown",
   "id": "b92e8625",
   "metadata": {},
   "source": [
    "### 'asin'"
   ]
  },
  {
   "cell_type": "code",
   "execution_count": 17,
   "id": "0dcdf7fe",
   "metadata": {},
   "outputs": [
    {
     "name": "stdout",
     "output_type": "stream",
     "text": [
      "0    1384719342\n",
      "1    1384719342\n",
      "2    1384719342\n",
      "3    1384719342\n",
      "4    1384719342\n",
      "Name: asin, dtype: object\n",
      "10256    B00JBIVXGC\n",
      "10257    B00JBIVXGC\n",
      "10258    B00JBIVXGC\n",
      "10259    B00JBIVXGC\n",
      "10260    B00JBIVXGC\n",
      "Name: asin, dtype: object\n"
     ]
    }
   ],
   "source": [
    "# examine the 'asin' variable of the original dataset\n",
    "print(data_raw['asin'].head())\n",
    "print(data_raw['asin'].tail())"
   ]
  },
  {
   "cell_type": "markdown",
   "id": "7feb7b07",
   "metadata": {},
   "source": [
    "The column 'asin' represents the product ID, as per the data dictionary from Kaggle. This variable may be useful for splitting train-test-validate, but review time has already been selected as the basis for this initial exploration. For a peak into areas that may be worth exploring more, it would be good to examine the distribution of the counts of 'asin'."
   ]
  },
  {
   "cell_type": "code",
   "execution_count": 18,
   "id": "25d7c833",
   "metadata": {},
   "outputs": [
    {
     "data": {
      "image/png": "[encoded data removed]",
      "text/plain": [
       "<Figure size 640x480 with 1 Axes>"
      ]
     },
     "metadata": {},
     "output_type": "display_data"
    },
    {
     "data": {
      "text/plain": [
       "count    900.000000\n",
       "mean      11.401111\n",
       "std       12.933655\n",
       "min        5.000000\n",
       "25%        6.000000\n",
       "50%        8.000000\n",
       "75%       12.000000\n",
       "max      163.000000\n",
       "Name: count, dtype: float64"
      ]
     },
     "execution_count": 18,
     "metadata": {},
     "output_type": "execute_result"
    }
   ],
   "source": [
    "# plot the frequency distribution of the variable 'asin'\n",
    "\n",
    "plt.hist(data_raw['asin'].value_counts(),\n",
    "        bins = 50)\n",
    "plt.ylabel('Number of Product IDs (asin)')\n",
    "plt.xlabel('Number of Reviews')\n",
    "plt.title('Frequency Histogram - asin')\n",
    "plt.show()\n",
    "\n",
    "# print basic distributional measures\n",
    "data_raw['asin'].value_counts().describe()"
   ]
  },
  {
   "cell_type": "markdown",
   "id": "a02e81fd",
   "metadata": {},
   "source": [
    "Each product ID (asin) has at least 5 reviews in the database. While this project will split train-test-validate based on time, another valid approach could be to split based on asin, either ensuring that train-test-validate each have at least one of each, or alternatively splitting so that product IDs are distinct among the training, testing, and validating sets. "
   ]
  },
  {
   "cell_type": "markdown",
   "id": "668022b6",
   "metadata": {},
   "source": [
    "### 'reviewerID'"
   ]
  },
  {
   "cell_type": "code",
   "execution_count": 19,
   "id": "973f5c6d",
   "metadata": {},
   "outputs": [
    {
     "name": "stdout",
     "output_type": "stream",
     "text": [
      "0    A2IBPI20UZIR0U\n",
      "1    A14VAT5EAX3D9S\n",
      "2    A195EZSQDW3E21\n",
      "3    A2C00NNG1ZQQG2\n",
      "4     A94QU4C90B1AX\n",
      "Name: reviewerID, dtype: object\n",
      "10256    A14B2YH83ZXMPP\n",
      "10257     A1RPTVW5VEOSI\n",
      "10258     AWCJ12KBO5VII\n",
      "10259    A2Z7S8B5U4PAKJ\n",
      "10260    A2WA8TDCTGUADI\n",
      "Name: reviewerID, dtype: object\n"
     ]
    }
   ],
   "source": [
    "# examine the 'reviewerID' variable of the original dataset\n",
    "print(data_raw['reviewerID'].head())\n",
    "print(data_raw['reviewerID'].tail())"
   ]
  },
  {
   "cell_type": "markdown",
   "id": "b4f263a9",
   "metadata": {},
   "source": [
    "The column 'reviewerID' is redundant with the column 'reviewerName', which has been deemed irrelevant for this project, and 'reviewerName' would be more useful if included in a model, i.e. if someone has the username \"grumpy_purchaser_dislikes_oboes\", an NLP model may be able to surmise their bias against oboes.\n",
    "\n",
    "It could also be informative to examine the frequency distribution of reviewers."
   ]
  },
  {
   "cell_type": "code",
   "execution_count": 20,
   "id": "f44401c7",
   "metadata": {},
   "outputs": [
    {
     "data": {
      "image/png": "[encoded data removed]",
      "text/plain": [
       "<Figure size 640x480 with 1 Axes>"
      ]
     },
     "metadata": {},
     "output_type": "display_data"
    },
    {
     "data": {
      "text/plain": [
       "count    1429.000000\n",
       "mean        7.180546\n",
       "std         3.731858\n",
       "min         5.000000\n",
       "25%         5.000000\n",
       "50%         6.000000\n",
       "75%         8.000000\n",
       "max        42.000000\n",
       "Name: count, dtype: float64"
      ]
     },
     "execution_count": 20,
     "metadata": {},
     "output_type": "execute_result"
    }
   ],
   "source": [
    "# plot the frequency distribution of the variable 'reviewerID'\n",
    "\n",
    "plt.hist(data_raw['reviewerID'].value_counts(),\n",
    "        bins = 50)\n",
    "plt.ylabel('Number of Reviewer IDs')\n",
    "plt.xlabel('Number of Reviews')\n",
    "plt.title('Frequency Histogram - reviewerID')\n",
    "plt.show()\n",
    "\n",
    "# print basic distributional measures\n",
    "data_raw['reviewerID'].value_counts().describe()"
   ]
  },
  {
   "cell_type": "markdown",
   "id": "a8151c99",
   "metadata": {},
   "source": [
    "Similar to 'asin', there are at least 5 reviews per reviewer in the database, which in an alternate approach could provide a different basis for train-test-validate split."
   ]
  },
  {
   "cell_type": "markdown",
   "id": "3b8d1739",
   "metadata": {},
   "source": [
    "<hr>\n",
    "\n",
    "# Clean The Data"
   ]
  },
  {
   "cell_type": "markdown",
   "id": "8fc0906f",
   "metadata": {},
   "source": [
    "This project aims to identify simple features of the reviews and summaries provided that may be predictive of the review score, and it's perceived usefulness among other shoppers. \n",
    "\n",
    "A more robust project could be insightful on this data, for example, an NLP model that tokenizes reviews, summaries, and even reviewer names for the purpose of predicting review score and/or usefulness perceived by other shoppers.\n",
    "\n",
    "Another area of exploration a more robust should consider is timing of review, as well as the review history of reviewers.\n",
    "\n",
    "In this portion of the project, the raw data will be cleaned, transformed, and features irrelevant to the present goal will be discarded.\n",
    "\n",
    "### Identify Variables That Are Irrelevant To This Project And Will Be Dropped\n",
    "\n",
    "As per initial inspection, the following variables will be discarded without further consideration : \n",
    "- reviewerID\n",
    "- asin\n",
    "- reviewerName\n",
    "- unixReviewTime\n",
    "- reviewTime\n",
    "\n",
    "### Variables That Will Be Transformed\n",
    "\n",
    "The following variables will be transformed : \n",
    "- helpful - will be transformed into three representing (A) percent helpful (B) percent unhelpful (C) number of shoppers that gave feedback on this review\n",
    "- reviewText - will be transformed into the length of the review provided\n",
    "- summary - will be transformed into the length of the summary provided\n",
    "\n",
    "### Variables That Will Be Kept\n",
    "\n",
    "- overall - the review score will be kept, as is."
   ]
  },
  {
   "cell_type": "markdown",
   "id": "a8c17fa6",
   "metadata": {},
   "source": [
    "### Transform Data"
   ]
  },
  {
   "cell_type": "code",
   "execution_count": 21,
   "id": "a33c3454",
   "metadata": {},
   "outputs": [
    {
     "name": "stdout",
     "output_type": "stream",
     "text": [
      "[0.         0.92857143 1.         0.         0.        ]\n",
      "[0.         0.07142857 0.         0.         0.        ]\n"
     ]
    }
   ],
   "source": [
    "# prepare transformed columns\n",
    "# \n",
    "# lengths_review, lengths_summary, count_found_helpful, and count_total_helpful were prepared earlier in this notebook\n",
    "\n",
    "# cast variables to lists\n",
    "list_found_helpful = list(count_found_helpful)\n",
    "list_total_helpful = list(count_total_helpful)\n",
    "\n",
    "# make a DataFrame\n",
    "dataframe_helpful = pd.DataFrame(list(zip(list_found_helpful, \n",
    "                                          list_total_helpful)),\n",
    "                                columns = ['found', \n",
    "                                           'total'])\n",
    "\n",
    "# derive percent_helpful\n",
    "percent_helpful = np.where(dataframe_helpful['total'] == 0, \n",
    "                           0, \n",
    "                           dataframe_helpful['found'] / dataframe_helpful['total'])\n",
    "\n",
    "# derive percent_unhelpful\n",
    "percent_unhelpful = np.where(dataframe_helpful['total'] == 0, \n",
    "                             0, \n",
    "                             1 - (dataframe_helpful['found'] / dataframe_helpful['total']))\n",
    "\n",
    "# examine the head of newly derived variables\n",
    "print(percent_helpful[0:5])\n",
    "print(percent_unhelpful[0:5])\n"
   ]
  },
  {
   "cell_type": "markdown",
   "id": "4e22507f",
   "metadata": {},
   "source": [
    "### Construct Cleaned DataFrame"
   ]
  },
  {
   "cell_type": "code",
   "execution_count": 22,
   "id": "0a26f4a0",
   "metadata": {},
   "outputs": [
    {
     "name": "stdout",
     "output_type": "stream",
     "text": [
      "   lengths_review  lengths_summary   helpful  unhelpful  total_helpful  review\n",
      "0           268.0                4  0.000000   0.000000              0     5.0\n",
      "1           544.0                4  0.928571   0.071429             14     5.0\n",
      "2           436.0               20  1.000000   0.000000              1     5.0\n",
      "3           206.0               29  0.000000   0.000000              0     5.0\n",
      "4           159.0               37  0.000000   0.000000              0     5.0\n"
     ]
    }
   ],
   "source": [
    "# construct a pandas DataFrame from the selected, cleaned, and transformed data\n",
    "data_clean = pd.DataFrame(list(zip(lengths_review, \n",
    "                                   lengths_summary, \n",
    "                                   percent_helpful, \n",
    "                                   percent_unhelpful, \n",
    "                                   count_total_helpful, \n",
    "                                   data_raw['overall'])),\n",
    "                         columns = ['lengths_review',\n",
    "                                   'lengths_summary',\n",
    "                                   'helpful',\n",
    "                                   'unhelpful',\n",
    "                                   'total_helpful',\n",
    "                                   'review'])\n",
    "\n",
    "# examine the head of the cleaned DataFrame\n",
    "print(data_clean.head())"
   ]
  },
  {
   "cell_type": "markdown",
   "id": "de67a3e5",
   "metadata": {},
   "source": [
    "<hr>\n",
    "\n",
    "# Split The Data Based On Time Into Train-Test-Validate"
   ]
  },
  {
   "cell_type": "code",
   "execution_count": 82,
   "id": "b3590c11",
   "metadata": {},
   "outputs": [
    {
     "ename": "AttributeError",
     "evalue": "'list' object has no attribute 'tolist'",
     "output_type": "error",
     "traceback": [
      "\u001b[1;31m---------------------------------------------------------------------------\u001b[0m",
      "\u001b[1;31mAttributeError\u001b[0m                            Traceback (most recent call last)",
      "Cell \u001b[1;32mIn[82], line 11\u001b[0m\n\u001b[0;32m      4\u001b[0m ttt \u001b[38;5;241m=\u001b[39m indices_train[\u001b[38;5;241m0\u001b[39m:\u001b[38;5;241m5\u001b[39m]\n\u001b[0;32m      5\u001b[0m \u001b[38;5;66;03m#data_clean.iloc(tuple(ttt.tolist()))\u001b[39;00m\n\u001b[0;32m      6\u001b[0m \u001b[38;5;66;03m#ttt = ttt.tolist()\u001b[39;00m\n\u001b[0;32m      7\u001b[0m \u001b[38;5;66;03m#ttt = tuple(ttt)\u001b[39;00m\n\u001b[0;32m      8\u001b[0m \u001b[38;5;66;03m#print(zip(ttt))\u001b[39;00m\n\u001b[0;32m      9\u001b[0m \u001b[38;5;66;03m#print(ttt)\u001b[39;00m\n\u001b[0;32m     10\u001b[0m \u001b[38;5;66;03m#data_clean.iloc(ttt)\u001b[39;00m\n\u001b[1;32m---> 11\u001b[0m \u001b[38;5;28mprint\u001b[39m(\u001b[43mttt\u001b[49m\u001b[38;5;241;43m.\u001b[39;49m\u001b[43mtolist\u001b[49m\u001b[43m(\u001b[49m\u001b[43m)\u001b[49m\u001b[38;5;241;43m.\u001b[39;49m\u001b[43mtolist\u001b[49m())\n\u001b[0;32m     13\u001b[0m \u001b[38;5;66;03m# split out testing data\u001b[39;00m\n\u001b[0;32m     14\u001b[0m \u001b[38;5;66;03m# ...\u001b[39;00m\n\u001b[0;32m     15\u001b[0m \n\u001b[0;32m     16\u001b[0m \u001b[38;5;66;03m# split out validation data\u001b[39;00m\n\u001b[0;32m     17\u001b[0m \u001b[38;5;66;03m# ...\u001b[39;00m\n",
      "\u001b[1;31mAttributeError\u001b[0m: 'list' object has no attribute 'tolist'"
     ]
    }
   ],
   "source": [
    "# split out training data\n",
    "#data_train = data_clean[indices_train,]\n",
    "type(indices_train)\n",
    "ttt = indices_train[0:5]\n",
    "#data_clean.iloc(tuple(ttt.tolist()))\n",
    "#ttt = ttt.tolist()\n",
    "#ttt = tuple(ttt)\n",
    "#print(zip(ttt))\n",
    "#print(ttt)\n",
    "#data_clean.iloc(ttt)\n",
    "print(ttt.tolist())\n",
    "\n",
    "# split out testing data\n",
    "# ...\n",
    "\n",
    "# split out validation data\n",
    "# ..."
   ]
  },
  {
   "cell_type": "markdown",
   "id": "6de05852",
   "metadata": {},
   "source": [
    "<hr>\n",
    "\n",
    "# Exploratory Data Analysis"
   ]
  },
  {
   "cell_type": "code",
   "execution_count": null,
   "id": "38015d21",
   "metadata": {},
   "outputs": [],
   "source": []
  }
 ],
 "metadata": {
  "kernelspec": {
   "display_name": "Python 3 (ipykernel)",
   "language": "python",
   "name": "python3"
  },
  "language_info": {
   "codemirror_mode": {
    "name": "ipython",
    "version": 3
   },
   "file_extension": ".py",
   "mimetype": "text/x-python",
   "name": "python",
   "nbconvert_exporter": "python",
   "pygments_lexer": "ipython3",
   "version": "3.11.3"
  }
 },
 "nbformat": 4,
 "nbformat_minor": 5
}
