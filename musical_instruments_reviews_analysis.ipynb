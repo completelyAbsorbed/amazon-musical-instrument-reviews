{
 "cells": [
  {
   "cell_type": "markdown",
   "id": "43121aaa",
   "metadata": {},
   "source": []
  },
  {
   "cell_type": "code",
   "execution_count": 4,
   "id": "1da9b395",
   "metadata": {},
   "outputs": [
    {
     "name": "stdout",
     "output_type": "stream",
     "text": [
      "       reviewerID        asin  \\\n",
      "0  A2IBPI20UZIR0U  1384719342   \n",
      "1  A14VAT5EAX3D9S  1384719342   \n",
      "2  A195EZSQDW3E21  1384719342   \n",
      "3  A2C00NNG1ZQQG2  1384719342   \n",
      "4   A94QU4C90B1AX  1384719342   \n",
      "\n",
      "                                       reviewerName   helpful  \\\n",
      "0  cassandra tu \"Yeah, well, that's just like, u...    [0, 0]   \n",
      "1                                              Jake  [13, 14]   \n",
      "2                     Rick Bennette \"Rick Bennette\"    [1, 1]   \n",
      "3                         RustyBill \"Sunday Rocker\"    [0, 0]   \n",
      "4                                     SEAN MASLANKA    [0, 0]   \n",
      "\n",
      "                                          reviewText  overall  \\\n",
      "0  Not much to write about here, but it does exac...      5.0   \n",
      "1  The product does exactly as it should and is q...      5.0   \n",
      "2  The primary job of this device is to block the...      5.0   \n",
      "3  Nice windscreen protects my MXL mic and preven...      5.0   \n",
      "4  This pop filter is great. It looks and perform...      5.0   \n",
      "\n",
      "                                 summary  unixReviewTime   reviewTime  \n",
      "0                                   good      1393545600  02 28, 2014  \n",
      "1                                   Jake      1363392000  03 16, 2013  \n",
      "2                   It Does The Job Well      1377648000  08 28, 2013  \n",
      "3          GOOD WINDSCREEN FOR THE MONEY      1392336000  02 14, 2014  \n",
      "4  No more pops when I record my vocals.      1392940800  02 21, 2014  \n"
     ]
    }
   ],
   "source": [
    "import pandas as pd\n",
    "\n",
    "data_filename = \"Musical_instruments_reviews.csv\"\n",
    "\n",
    "data_raw = pd.read_csv(data_filename)\n",
    "\n",
    "print(data_raw.head())"
   ]
  }
 ],
 "metadata": {
  "kernelspec": {
   "display_name": "Python 3 (ipykernel)",
   "language": "python",
   "name": "python3"
  },
  "language_info": {
   "codemirror_mode": {
    "name": "ipython",
    "version": 3
   },
   "file_extension": ".py",
   "mimetype": "text/x-python",
   "name": "python",
   "nbconvert_exporter": "python",
   "pygments_lexer": "ipython3",
   "version": "3.10.7"
  }
 },
 "nbformat": 4,
 "nbformat_minor": 5
}
