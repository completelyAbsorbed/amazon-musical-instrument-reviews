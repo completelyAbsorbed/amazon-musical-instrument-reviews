{
 "cells": [
  {
   "cell_type": "markdown",
   "id": "256b1a82",
   "metadata": {},
   "source": [
    "# Liz Young - Code Review - Technical Interview Presentation\n",
    "\n",
    "<hr>\n",
    "\n",
    "In this notebook I will walk through code I wrote to start analyzing reviews of musical instruments from Amazon purchases.\n",
    "\n",
    "I selected [this dataset](https://www.kaggle.com/datasets/eswarchandt/amazon-music-reviews?resource=download) from Kaggle, after searching for semistructured and unstructured datasets, this one resonated with me.\n",
    "\n",
    "<hr>\n",
    "\n",
    "I set up a private github repo tracking my progress with this project, you can find via [this link](https://github.com/completelyAbsorbed/amazon-musical-instrument-reviews), containing ...\n",
    "- commits of this project from start to finish\n",
    "- a progress tracker document I designed and used to execute the PACE methodology on this project\n",
    "- screen captures of my git commits demonstrating competency with git, github, and commandline\n",
    "- the original database sourced from Kaggle\n",
    "- this Jupyter notebook\n",
    "- any files produced by this notebook\n",
    "\n",
    "<hr>\n",
    "\n",
    "### *Thank you for your time and consideration*\n",
    "\n",
    "<hr>"
   ]
  },
  {
   "cell_type": "markdown",
   "id": "ff31e556",
   "metadata": {},
   "source": [
    "# Import"
   ]
  },
  {
   "cell_type": "code",
   "execution_count": null,
   "id": "c68acb3d",
   "metadata": {},
   "outputs": [],
   "source": [
    "# import packages and libraries\n",
    "import pandas as pd"
   ]
  },
  {
   "cell_type": "markdown",
   "id": "4103572a",
   "metadata": {},
   "source": [
    "# Load Original Data"
   ]
  },
  {
   "cell_type": "code",
   "execution_count": 7,
   "id": "54b67064",
   "metadata": {},
   "outputs": [],
   "source": [
    "# define the filename where python can find the original dataset\n",
    "data_filename = \"Musical_instruments_reviews.csv\"\n",
    "\n",
    "# read in the original dataset to a pandas DataFrame\n",
    "data_raw = pd.read_csv(data_filename)"
   ]
  },
  {
   "cell_type": "markdown",
   "id": "9c8fa067",
   "metadata": {},
   "source": [
    "# Initial Inspection of Data"
   ]
  },
  {
   "cell_type": "code",
   "execution_count": 9,
   "id": "a504a1ba",
   "metadata": {},
   "outputs": [
    {
     "name": "stdout",
     "output_type": "stream",
     "text": [
      "       reviewerID        asin  \\\n",
      "0  A2IBPI20UZIR0U  1384719342   \n",
      "1  A14VAT5EAX3D9S  1384719342   \n",
      "2  A195EZSQDW3E21  1384719342   \n",
      "3  A2C00NNG1ZQQG2  1384719342   \n",
      "4   A94QU4C90B1AX  1384719342   \n",
      "\n",
      "                                       reviewerName   helpful  \\\n",
      "0  cassandra tu \"Yeah, well, that's just like, u...    [0, 0]   \n",
      "1                                              Jake  [13, 14]   \n",
      "2                     Rick Bennette \"Rick Bennette\"    [1, 1]   \n",
      "3                         RustyBill \"Sunday Rocker\"    [0, 0]   \n",
      "4                                     SEAN MASLANKA    [0, 0]   \n",
      "\n",
      "                                          reviewText  overall  \\\n",
      "0  Not much to write about here, but it does exac...      5.0   \n",
      "1  The product does exactly as it should and is q...      5.0   \n",
      "2  The primary job of this device is to block the...      5.0   \n",
      "3  Nice windscreen protects my MXL mic and preven...      5.0   \n",
      "4  This pop filter is great. It looks and perform...      5.0   \n",
      "\n",
      "                                 summary  unixReviewTime   reviewTime  \n",
      "0                                   good      1393545600  02 28, 2014  \n",
      "1                                   Jake      1363392000  03 16, 2013  \n",
      "2                   It Does The Job Well      1377648000  08 28, 2013  \n",
      "3          GOOD WINDSCREEN FOR THE MONEY      1392336000  02 14, 2014  \n",
      "4  No more pops when I record my vocals.      1392940800  02 21, 2014  \n"
     ]
    }
   ],
   "source": [
    "# look at the first 5 rows of the original dataset\n",
    "print(data_raw.head())"
   ]
  },
  {
   "cell_type": "code",
   "execution_count": 10,
   "id": "69ad5585",
   "metadata": {},
   "outputs": [
    {
     "name": "stdout",
     "output_type": "stream",
     "text": [
      "           reviewerID        asin             reviewerName helpful  \\\n",
      "10256  A14B2YH83ZXMPP  B00JBIVXGC          Lonnie M. Adams  [0, 0]   \n",
      "10257   A1RPTVW5VEOSI  B00JBIVXGC       Michael J. Edelman  [0, 0]   \n",
      "10258   AWCJ12KBO5VII  B00JBIVXGC         Michael L. Knapp  [0, 0]   \n",
      "10259  A2Z7S8B5U4PAKJ  B00JBIVXGC  Rick Langdon \"Scriptor\"  [0, 0]   \n",
      "10260  A2WA8TDCTGUADI  B00JBIVXGC          TheTerrorBeyond  [0, 0]   \n",
      "\n",
      "                                              reviewText  overall  \\\n",
      "10256            Great, just as expected.  Thank to all.      5.0   \n",
      "10257  I've been thinking about trying the Nanoweb st...      5.0   \n",
      "10258  I have tried coated strings in the past ( incl...      4.0   \n",
      "10259  Well, MADE by Elixir and DEVELOPED with Taylor...      4.0   \n",
      "10260  These strings are really quite good, but I wou...      4.0   \n",
      "\n",
      "                                                 summary  unixReviewTime  \\\n",
      "10256                                         Five Stars      1405814400   \n",
      "10257  Long life, and for some players, a good econom...      1404259200   \n",
      "10258                                   Good for coated.      1405987200   \n",
      "10259                                        Taylor Made      1404172800   \n",
      "10260  These strings are really quite good, but I wou...      1405468800   \n",
      "\n",
      "        reviewTime  \n",
      "10256  07 20, 2014  \n",
      "10257   07 2, 2014  \n",
      "10258  07 22, 2014  \n",
      "10259   07 1, 2014  \n",
      "10260  07 16, 2014  \n"
     ]
    }
   ],
   "source": [
    "# look at the last 5 rows of the original dataset\n",
    "print(data_raw.tail())"
   ]
  },
  {
   "cell_type": "code",
   "execution_count": 13,
   "id": "0e460d0d",
   "metadata": {},
   "outputs": [
    {
     "name": "stdout",
     "output_type": "stream",
     "text": [
      "            overall  unixReviewTime\n",
      "count  10261.000000    1.026100e+04\n",
      "mean       4.488744    1.360606e+09\n",
      "std        0.894642    3.779735e+07\n",
      "min        1.000000    1.095466e+09\n",
      "25%        4.000000    1.343434e+09\n",
      "50%        5.000000    1.368490e+09\n",
      "75%        5.000000    1.388966e+09\n",
      "max        5.000000    1.405987e+09\n"
     ]
    }
   ],
   "source": [
    "# print a summary of the original dataset\n",
    "print(data_raw.describe()) # using the describe() function of a Pandas DataFrame / Object-Oriented Programming pattern"
   ]
  }
 ],
 "metadata": {
  "kernelspec": {
   "display_name": "Python 3 (ipykernel)",
   "language": "python",
   "name": "python3"
  },
  "language_info": {
   "codemirror_mode": {
    "name": "ipython",
    "version": 3
   },
   "file_extension": ".py",
   "mimetype": "text/x-python",
   "name": "python",
   "nbconvert_exporter": "python",
   "pygments_lexer": "ipython3",
   "version": "3.10.7"
  }
 },
 "nbformat": 4,
 "nbformat_minor": 5
}
